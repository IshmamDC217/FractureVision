{
  "nbformat": 4,
  "nbformat_minor": 0,
  "metadata": {
    "colab": {
      "provenance": [],
      "gpuType": "T4"
    },
    "kernelspec": {
      "name": "python3",
      "display_name": "Python 3"
    },
    "language_info": {
      "name": "python"
    },
    "accelerator": "GPU"
  },
  "cells": [
    {
      "cell_type": "code",
      "execution_count": null,
      "metadata": {
        "id": "lj1bGjmU6Ef5",
        "colab": {
          "base_uri": "https://localhost:8080/"
        },
        "outputId": "5ba9455e-9d1f-41b1-f14f-b75d9d4a6173"
      },
      "outputs": [
        {
          "output_type": "stream",
          "name": "stdout",
          "text": [
            "Requirement already satisfied: deeplake<4 in /usr/local/lib/python3.11/dist-packages (3.9.38)\n",
            "Requirement already satisfied: numpy<2.0 in /usr/local/lib/python3.11/dist-packages (from deeplake<4) (1.26.4)\n",
            "Requirement already satisfied: boto3 in /usr/local/lib/python3.11/dist-packages (from deeplake<4) (1.36.1)\n",
            "Requirement already satisfied: click in /usr/local/lib/python3.11/dist-packages (from deeplake<4) (8.1.8)\n",
            "Requirement already satisfied: pathos in /usr/local/lib/python3.11/dist-packages (from deeplake<4) (0.3.3)\n",
            "Requirement already satisfied: humbug>=0.3.1 in /usr/local/lib/python3.11/dist-packages (from deeplake<4) (0.3.2)\n",
            "Requirement already satisfied: tqdm in /usr/local/lib/python3.11/dist-packages (from deeplake<4) (4.67.1)\n",
            "Requirement already satisfied: lz4 in /usr/local/lib/python3.11/dist-packages (from deeplake<4) (4.4.3)\n",
            "Requirement already satisfied: pyjwt in /usr/local/lib/python3.11/dist-packages (from deeplake<4) (2.10.1)\n",
            "Requirement already satisfied: aioboto3>=10.4.0 in /usr/local/lib/python3.11/dist-packages (from deeplake<4) (13.4.0)\n",
            "Requirement already satisfied: nest_asyncio in /usr/local/lib/python3.11/dist-packages (from deeplake<4) (1.6.0)\n",
            "Requirement already satisfied: pydantic in /usr/local/lib/python3.11/dist-packages (from deeplake<4) (2.10.6)\n",
            "Requirement already satisfied: libdeeplake in /usr/local/lib/python3.11/dist-packages (from deeplake<4) (0.0.157)\n",
            "Requirement already satisfied: aiobotocore==2.18.0 in /usr/local/lib/python3.11/dist-packages (from aiobotocore[boto3]==2.18.0->aioboto3>=10.4.0->deeplake<4) (2.18.0)\n",
            "Requirement already satisfied: aiofiles>=23.2.1 in /usr/local/lib/python3.11/dist-packages (from aioboto3>=10.4.0->deeplake<4) (24.1.0)\n",
            "Requirement already satisfied: aiohttp<4.0.0,>=3.9.2 in /usr/local/lib/python3.11/dist-packages (from aiobotocore==2.18.0->aiobotocore[boto3]==2.18.0->aioboto3>=10.4.0->deeplake<4) (3.11.11)\n",
            "Requirement already satisfied: aioitertools<1.0.0,>=0.5.1 in /usr/local/lib/python3.11/dist-packages (from aiobotocore==2.18.0->aiobotocore[boto3]==2.18.0->aioboto3>=10.4.0->deeplake<4) (0.12.0)\n",
            "Requirement already satisfied: botocore<1.36.2,>=1.36.0 in /usr/local/lib/python3.11/dist-packages (from aiobotocore==2.18.0->aiobotocore[boto3]==2.18.0->aioboto3>=10.4.0->deeplake<4) (1.36.1)\n",
            "Requirement already satisfied: python-dateutil<3.0.0,>=2.1 in /usr/local/lib/python3.11/dist-packages (from aiobotocore==2.18.0->aiobotocore[boto3]==2.18.0->aioboto3>=10.4.0->deeplake<4) (2.8.2)\n",
            "Requirement already satisfied: jmespath<2.0.0,>=0.7.1 in /usr/local/lib/python3.11/dist-packages (from aiobotocore==2.18.0->aiobotocore[boto3]==2.18.0->aioboto3>=10.4.0->deeplake<4) (1.0.1)\n",
            "Requirement already satisfied: multidict<7.0.0,>=6.0.0 in /usr/local/lib/python3.11/dist-packages (from aiobotocore==2.18.0->aiobotocore[boto3]==2.18.0->aioboto3>=10.4.0->deeplake<4) (6.1.0)\n",
            "Requirement already satisfied: urllib3!=2.2.0,<3,>=1.25.4 in /usr/local/lib/python3.11/dist-packages (from aiobotocore==2.18.0->aiobotocore[boto3]==2.18.0->aioboto3>=10.4.0->deeplake<4) (2.3.0)\n",
            "Requirement already satisfied: wrapt<2.0.0,>=1.10.10 in /usr/local/lib/python3.11/dist-packages (from aiobotocore==2.18.0->aiobotocore[boto3]==2.18.0->aioboto3>=10.4.0->deeplake<4) (1.17.2)\n",
            "Requirement already satisfied: s3transfer<0.12.0,>=0.11.0 in /usr/local/lib/python3.11/dist-packages (from boto3->deeplake<4) (0.11.2)\n",
            "Requirement already satisfied: requests in /usr/local/lib/python3.11/dist-packages (from humbug>=0.3.1->deeplake<4) (2.32.3)\n",
            "Requirement already satisfied: dill in /usr/local/lib/python3.11/dist-packages (from libdeeplake->deeplake<4) (0.3.9)\n",
            "Requirement already satisfied: ppft>=1.7.6.9 in /usr/local/lib/python3.11/dist-packages (from pathos->deeplake<4) (1.7.6.9)\n",
            "Requirement already satisfied: pox>=0.3.5 in /usr/local/lib/python3.11/dist-packages (from pathos->deeplake<4) (0.3.5)\n",
            "Requirement already satisfied: multiprocess>=0.70.17 in /usr/local/lib/python3.11/dist-packages (from pathos->deeplake<4) (0.70.17)\n",
            "Requirement already satisfied: annotated-types>=0.6.0 in /usr/local/lib/python3.11/dist-packages (from pydantic->deeplake<4) (0.7.0)\n",
            "Requirement already satisfied: pydantic-core==2.27.2 in /usr/local/lib/python3.11/dist-packages (from pydantic->deeplake<4) (2.27.2)\n",
            "Requirement already satisfied: typing-extensions>=4.12.2 in /usr/local/lib/python3.11/dist-packages (from pydantic->deeplake<4) (4.12.2)\n",
            "Requirement already satisfied: charset-normalizer<4,>=2 in /usr/local/lib/python3.11/dist-packages (from requests->humbug>=0.3.1->deeplake<4) (3.4.1)\n",
            "Requirement already satisfied: idna<4,>=2.5 in /usr/local/lib/python3.11/dist-packages (from requests->humbug>=0.3.1->deeplake<4) (3.10)\n",
            "Requirement already satisfied: certifi>=2017.4.17 in /usr/local/lib/python3.11/dist-packages (from requests->humbug>=0.3.1->deeplake<4) (2024.12.14)\n",
            "Requirement already satisfied: aiohappyeyeballs>=2.3.0 in /usr/local/lib/python3.11/dist-packages (from aiohttp<4.0.0,>=3.9.2->aiobotocore==2.18.0->aiobotocore[boto3]==2.18.0->aioboto3>=10.4.0->deeplake<4) (2.4.4)\n",
            "Requirement already satisfied: aiosignal>=1.1.2 in /usr/local/lib/python3.11/dist-packages (from aiohttp<4.0.0,>=3.9.2->aiobotocore==2.18.0->aiobotocore[boto3]==2.18.0->aioboto3>=10.4.0->deeplake<4) (1.3.2)\n",
            "Requirement already satisfied: attrs>=17.3.0 in /usr/local/lib/python3.11/dist-packages (from aiohttp<4.0.0,>=3.9.2->aiobotocore==2.18.0->aiobotocore[boto3]==2.18.0->aioboto3>=10.4.0->deeplake<4) (25.1.0)\n",
            "Requirement already satisfied: frozenlist>=1.1.1 in /usr/local/lib/python3.11/dist-packages (from aiohttp<4.0.0,>=3.9.2->aiobotocore==2.18.0->aiobotocore[boto3]==2.18.0->aioboto3>=10.4.0->deeplake<4) (1.5.0)\n",
            "Requirement already satisfied: propcache>=0.2.0 in /usr/local/lib/python3.11/dist-packages (from aiohttp<4.0.0,>=3.9.2->aiobotocore==2.18.0->aiobotocore[boto3]==2.18.0->aioboto3>=10.4.0->deeplake<4) (0.2.1)\n",
            "Requirement already satisfied: yarl<2.0,>=1.17.0 in /usr/local/lib/python3.11/dist-packages (from aiohttp<4.0.0,>=3.9.2->aiobotocore==2.18.0->aiobotocore[boto3]==2.18.0->aioboto3>=10.4.0->deeplake<4) (1.18.3)\n",
            "Requirement already satisfied: six>=1.5 in /usr/local/lib/python3.11/dist-packages (from python-dateutil<3.0.0,>=2.1->aiobotocore==2.18.0->aiobotocore[boto3]==2.18.0->aioboto3>=10.4.0->deeplake<4) (1.17.0)\n",
            "Requirement already satisfied: torch in /usr/local/lib/python3.11/dist-packages (2.5.1+cu124)\n",
            "Requirement already satisfied: torchvision in /usr/local/lib/python3.11/dist-packages (0.20.1+cu124)\n",
            "Requirement already satisfied: deeplake in /usr/local/lib/python3.11/dist-packages (3.9.38)\n",
            "Requirement already satisfied: onnx in /usr/local/lib/python3.11/dist-packages (1.17.0)\n",
            "Requirement already satisfied: onnxruntime in /usr/local/lib/python3.11/dist-packages (1.20.1)\n",
            "Requirement already satisfied: filelock in /usr/local/lib/python3.11/dist-packages (from torch) (3.17.0)\n",
            "Requirement already satisfied: typing-extensions>=4.8.0 in /usr/local/lib/python3.11/dist-packages (from torch) (4.12.2)\n",
            "Requirement already satisfied: networkx in /usr/local/lib/python3.11/dist-packages (from torch) (3.4.2)\n",
            "Requirement already satisfied: jinja2 in /usr/local/lib/python3.11/dist-packages (from torch) (3.1.5)\n",
            "Requirement already satisfied: fsspec in /usr/local/lib/python3.11/dist-packages (from torch) (2024.10.0)\n",
            "Requirement already satisfied: nvidia-cuda-nvrtc-cu12==12.4.127 in /usr/local/lib/python3.11/dist-packages (from torch) (12.4.127)\n",
            "Requirement already satisfied: nvidia-cuda-runtime-cu12==12.4.127 in /usr/local/lib/python3.11/dist-packages (from torch) (12.4.127)\n",
            "Requirement already satisfied: nvidia-cuda-cupti-cu12==12.4.127 in /usr/local/lib/python3.11/dist-packages (from torch) (12.4.127)\n",
            "Requirement already satisfied: nvidia-cudnn-cu12==9.1.0.70 in /usr/local/lib/python3.11/dist-packages (from torch) (9.1.0.70)\n",
            "Requirement already satisfied: nvidia-cublas-cu12==12.4.5.8 in /usr/local/lib/python3.11/dist-packages (from torch) (12.4.5.8)\n",
            "Requirement already satisfied: nvidia-cufft-cu12==11.2.1.3 in /usr/local/lib/python3.11/dist-packages (from torch) (11.2.1.3)\n",
            "Requirement already satisfied: nvidia-curand-cu12==10.3.5.147 in /usr/local/lib/python3.11/dist-packages (from torch) (10.3.5.147)\n",
            "Requirement already satisfied: nvidia-cusolver-cu12==11.6.1.9 in /usr/local/lib/python3.11/dist-packages (from torch) (11.6.1.9)\n",
            "Requirement already satisfied: nvidia-cusparse-cu12==12.3.1.170 in /usr/local/lib/python3.11/dist-packages (from torch) (12.3.1.170)\n",
            "Requirement already satisfied: nvidia-nccl-cu12==2.21.5 in /usr/local/lib/python3.11/dist-packages (from torch) (2.21.5)\n",
            "Requirement already satisfied: nvidia-nvtx-cu12==12.4.127 in /usr/local/lib/python3.11/dist-packages (from torch) (12.4.127)\n",
            "Requirement already satisfied: nvidia-nvjitlink-cu12==12.4.127 in /usr/local/lib/python3.11/dist-packages (from torch) (12.4.127)\n",
            "Requirement already satisfied: triton==3.1.0 in /usr/local/lib/python3.11/dist-packages (from torch) (3.1.0)\n",
            "Requirement already satisfied: sympy==1.13.1 in /usr/local/lib/python3.11/dist-packages (from torch) (1.13.1)\n",
            "Requirement already satisfied: mpmath<1.4,>=1.1.0 in /usr/local/lib/python3.11/dist-packages (from sympy==1.13.1->torch) (1.3.0)\n",
            "Requirement already satisfied: numpy in /usr/local/lib/python3.11/dist-packages (from torchvision) (1.26.4)\n",
            "Requirement already satisfied: pillow!=8.3.*,>=5.3.0 in /usr/local/lib/python3.11/dist-packages (from torchvision) (11.1.0)\n",
            "Requirement already satisfied: boto3 in /usr/local/lib/python3.11/dist-packages (from deeplake) (1.36.1)\n",
            "Requirement already satisfied: click in /usr/local/lib/python3.11/dist-packages (from deeplake) (8.1.8)\n",
            "Requirement already satisfied: pathos in /usr/local/lib/python3.11/dist-packages (from deeplake) (0.3.3)\n",
            "Requirement already satisfied: humbug>=0.3.1 in /usr/local/lib/python3.11/dist-packages (from deeplake) (0.3.2)\n",
            "Requirement already satisfied: tqdm in /usr/local/lib/python3.11/dist-packages (from deeplake) (4.67.1)\n",
            "Requirement already satisfied: lz4 in /usr/local/lib/python3.11/dist-packages (from deeplake) (4.4.3)\n",
            "Requirement already satisfied: pyjwt in /usr/local/lib/python3.11/dist-packages (from deeplake) (2.10.1)\n",
            "Requirement already satisfied: aioboto3>=10.4.0 in /usr/local/lib/python3.11/dist-packages (from deeplake) (13.4.0)\n",
            "Requirement already satisfied: nest_asyncio in /usr/local/lib/python3.11/dist-packages (from deeplake) (1.6.0)\n",
            "Requirement already satisfied: pydantic in /usr/local/lib/python3.11/dist-packages (from deeplake) (2.10.6)\n",
            "Requirement already satisfied: libdeeplake in /usr/local/lib/python3.11/dist-packages (from deeplake) (0.0.157)\n",
            "Requirement already satisfied: protobuf>=3.20.2 in /usr/local/lib/python3.11/dist-packages (from onnx) (4.25.6)\n",
            "Requirement already satisfied: coloredlogs in /usr/local/lib/python3.11/dist-packages (from onnxruntime) (15.0.1)\n",
            "Requirement already satisfied: flatbuffers in /usr/local/lib/python3.11/dist-packages (from onnxruntime) (25.1.24)\n",
            "Requirement already satisfied: packaging in /usr/local/lib/python3.11/dist-packages (from onnxruntime) (24.2)\n",
            "Requirement already satisfied: aiobotocore==2.18.0 in /usr/local/lib/python3.11/dist-packages (from aiobotocore[boto3]==2.18.0->aioboto3>=10.4.0->deeplake) (2.18.0)\n",
            "Requirement already satisfied: aiofiles>=23.2.1 in /usr/local/lib/python3.11/dist-packages (from aioboto3>=10.4.0->deeplake) (24.1.0)\n",
            "Requirement already satisfied: aiohttp<4.0.0,>=3.9.2 in /usr/local/lib/python3.11/dist-packages (from aiobotocore==2.18.0->aiobotocore[boto3]==2.18.0->aioboto3>=10.4.0->deeplake) (3.11.11)\n",
            "Requirement already satisfied: aioitertools<1.0.0,>=0.5.1 in /usr/local/lib/python3.11/dist-packages (from aiobotocore==2.18.0->aiobotocore[boto3]==2.18.0->aioboto3>=10.4.0->deeplake) (0.12.0)\n",
            "Requirement already satisfied: botocore<1.36.2,>=1.36.0 in /usr/local/lib/python3.11/dist-packages (from aiobotocore==2.18.0->aiobotocore[boto3]==2.18.0->aioboto3>=10.4.0->deeplake) (1.36.1)\n",
            "Requirement already satisfied: python-dateutil<3.0.0,>=2.1 in /usr/local/lib/python3.11/dist-packages (from aiobotocore==2.18.0->aiobotocore[boto3]==2.18.0->aioboto3>=10.4.0->deeplake) (2.8.2)\n",
            "Requirement already satisfied: jmespath<2.0.0,>=0.7.1 in /usr/local/lib/python3.11/dist-packages (from aiobotocore==2.18.0->aiobotocore[boto3]==2.18.0->aioboto3>=10.4.0->deeplake) (1.0.1)\n",
            "Requirement already satisfied: multidict<7.0.0,>=6.0.0 in /usr/local/lib/python3.11/dist-packages (from aiobotocore==2.18.0->aiobotocore[boto3]==2.18.0->aioboto3>=10.4.0->deeplake) (6.1.0)\n",
            "Requirement already satisfied: urllib3!=2.2.0,<3,>=1.25.4 in /usr/local/lib/python3.11/dist-packages (from aiobotocore==2.18.0->aiobotocore[boto3]==2.18.0->aioboto3>=10.4.0->deeplake) (2.3.0)\n",
            "Requirement already satisfied: wrapt<2.0.0,>=1.10.10 in /usr/local/lib/python3.11/dist-packages (from aiobotocore==2.18.0->aiobotocore[boto3]==2.18.0->aioboto3>=10.4.0->deeplake) (1.17.2)\n",
            "Requirement already satisfied: s3transfer<0.12.0,>=0.11.0 in /usr/local/lib/python3.11/dist-packages (from boto3->deeplake) (0.11.2)\n",
            "Requirement already satisfied: requests in /usr/local/lib/python3.11/dist-packages (from humbug>=0.3.1->deeplake) (2.32.3)\n",
            "Requirement already satisfied: humanfriendly>=9.1 in /usr/local/lib/python3.11/dist-packages (from coloredlogs->onnxruntime) (10.0)\n",
            "Requirement already satisfied: MarkupSafe>=2.0 in /usr/local/lib/python3.11/dist-packages (from jinja2->torch) (3.0.2)\n",
            "Requirement already satisfied: dill in /usr/local/lib/python3.11/dist-packages (from libdeeplake->deeplake) (0.3.9)\n",
            "Requirement already satisfied: ppft>=1.7.6.9 in /usr/local/lib/python3.11/dist-packages (from pathos->deeplake) (1.7.6.9)\n",
            "Requirement already satisfied: pox>=0.3.5 in /usr/local/lib/python3.11/dist-packages (from pathos->deeplake) (0.3.5)\n",
            "Requirement already satisfied: multiprocess>=0.70.17 in /usr/local/lib/python3.11/dist-packages (from pathos->deeplake) (0.70.17)\n",
            "Requirement already satisfied: annotated-types>=0.6.0 in /usr/local/lib/python3.11/dist-packages (from pydantic->deeplake) (0.7.0)\n",
            "Requirement already satisfied: pydantic-core==2.27.2 in /usr/local/lib/python3.11/dist-packages (from pydantic->deeplake) (2.27.2)\n",
            "Requirement already satisfied: charset-normalizer<4,>=2 in /usr/local/lib/python3.11/dist-packages (from requests->humbug>=0.3.1->deeplake) (3.4.1)\n",
            "Requirement already satisfied: idna<4,>=2.5 in /usr/local/lib/python3.11/dist-packages (from requests->humbug>=0.3.1->deeplake) (3.10)\n",
            "Requirement already satisfied: certifi>=2017.4.17 in /usr/local/lib/python3.11/dist-packages (from requests->humbug>=0.3.1->deeplake) (2024.12.14)\n",
            "Requirement already satisfied: aiohappyeyeballs>=2.3.0 in /usr/local/lib/python3.11/dist-packages (from aiohttp<4.0.0,>=3.9.2->aiobotocore==2.18.0->aiobotocore[boto3]==2.18.0->aioboto3>=10.4.0->deeplake) (2.4.4)\n",
            "Requirement already satisfied: aiosignal>=1.1.2 in /usr/local/lib/python3.11/dist-packages (from aiohttp<4.0.0,>=3.9.2->aiobotocore==2.18.0->aiobotocore[boto3]==2.18.0->aioboto3>=10.4.0->deeplake) (1.3.2)\n",
            "Requirement already satisfied: attrs>=17.3.0 in /usr/local/lib/python3.11/dist-packages (from aiohttp<4.0.0,>=3.9.2->aiobotocore==2.18.0->aiobotocore[boto3]==2.18.0->aioboto3>=10.4.0->deeplake) (25.1.0)\n",
            "Requirement already satisfied: frozenlist>=1.1.1 in /usr/local/lib/python3.11/dist-packages (from aiohttp<4.0.0,>=3.9.2->aiobotocore==2.18.0->aiobotocore[boto3]==2.18.0->aioboto3>=10.4.0->deeplake) (1.5.0)\n",
            "Requirement already satisfied: propcache>=0.2.0 in /usr/local/lib/python3.11/dist-packages (from aiohttp<4.0.0,>=3.9.2->aiobotocore==2.18.0->aiobotocore[boto3]==2.18.0->aioboto3>=10.4.0->deeplake) (0.2.1)\n",
            "Requirement already satisfied: yarl<2.0,>=1.17.0 in /usr/local/lib/python3.11/dist-packages (from aiohttp<4.0.0,>=3.9.2->aiobotocore==2.18.0->aiobotocore[boto3]==2.18.0->aioboto3>=10.4.0->deeplake) (1.18.3)\n",
            "Requirement already satisfied: six>=1.5 in /usr/local/lib/python3.11/dist-packages (from python-dateutil<3.0.0,>=2.1->aiobotocore==2.18.0->aiobotocore[boto3]==2.18.0->aioboto3>=10.4.0->deeplake) (1.17.0)\n"
          ]
        }
      ],
      "source": [
        "!pip install \"deeplake<4\"\n",
        "!pip install torch torchvision deeplake onnx onnxruntime"
      ]
    },
    {
      "cell_type": "code",
      "source": [
        "import torch\n",
        "import torchvision.models as models\n",
        "import torchvision.transforms as transforms\n",
        "import torch.nn as nn\n",
        "import torch.optim as optim\n",
        "import deeplake\n",
        "import numpy as np\n",
        "from torch.utils.data import Dataset, DataLoader\n",
        "print(\"✅ Dependencies Imported Successfully\")"
      ],
      "metadata": {
        "id": "uE280FcEwfZH",
        "colab": {
          "base_uri": "https://localhost:8080/"
        },
        "outputId": "affd074b-e599-4bc1-f9cc-4ddc65f5cb9f"
      },
      "execution_count": null,
      "outputs": [
        {
          "output_type": "stream",
          "name": "stdout",
          "text": [
            "✅ Dependencies Imported Successfully\n"
          ]
        }
      ]
    },
    {
      "cell_type": "code",
      "source": [
        "# Load dataset\n",
        "print(\"Loading MURA dataset...\")\n",
        "train_ds = deeplake.load(\"hub://activeloop/mura-train\")\n",
        "val_ds = deeplake.load(\"hub://activeloop/mura-val\")\n",
        "print(\"✅ MURA Dataset Loaded Successfully\")"
      ],
      "metadata": {
        "colab": {
          "base_uri": "https://localhost:8080/"
        },
        "id": "zgwk2Pzax67E",
        "outputId": "e52d4e32-3710-41df-a5eb-bf60cd5af5d2"
      },
      "execution_count": null,
      "outputs": [
        {
          "output_type": "stream",
          "name": "stdout",
          "text": [
            "Loading MURA dataset...\n"
          ]
        },
        {
          "output_type": "stream",
          "name": "stderr",
          "text": []
        },
        {
          "output_type": "stream",
          "name": "stdout",
          "text": [
            "Opening dataset in read-only mode as you don't have write permissions.\n"
          ]
        },
        {
          "output_type": "stream",
          "name": "stderr",
          "text": [
            "\\"
          ]
        },
        {
          "output_type": "stream",
          "name": "stdout",
          "text": [
            "This dataset can be visualized in Jupyter Notebook by ds.visualize() or at https://app.activeloop.ai/activeloop/mura-train\n",
            "\n"
          ]
        },
        {
          "output_type": "stream",
          "name": "stderr",
          "text": [
            "|"
          ]
        },
        {
          "output_type": "stream",
          "name": "stdout",
          "text": [
            "hub://activeloop/mura-train loaded successfully.\n",
            "\n"
          ]
        },
        {
          "output_type": "stream",
          "name": "stderr",
          "text": [
            "|"
          ]
        },
        {
          "output_type": "stream",
          "name": "stdout",
          "text": [
            "Opening dataset in read-only mode as you don't have write permissions.\n"
          ]
        },
        {
          "output_type": "stream",
          "name": "stderr",
          "text": [
            "|"
          ]
        },
        {
          "output_type": "stream",
          "name": "stdout",
          "text": [
            "This dataset can be visualized in Jupyter Notebook by ds.visualize() or at https://app.activeloop.ai/activeloop/mura-val\n",
            "\n"
          ]
        },
        {
          "output_type": "stream",
          "name": "stderr",
          "text": [
            "|"
          ]
        },
        {
          "output_type": "stream",
          "name": "stdout",
          "text": [
            "hub://activeloop/mura-val loaded successfully.\n",
            "\n",
            "✅ MURA Dataset Loaded Successfully\n"
          ]
        },
        {
          "output_type": "stream",
          "name": "stderr",
          "text": [
            "\r \r\r\r"
          ]
        }
      ]
    },
    {
      "cell_type": "code",
      "source": [
        "from PIL import Image\n",
        "\n",
        "import torchvision.transforms as transforms\n",
        "\n",
        "# ✅ Image Transformations\n",
        "transform = transforms.Compose([\n",
        "    transforms.Resize((224, 224)),\n",
        "    transforms.Grayscale(num_output_channels=3),  # Convert 1-channel grayscale to 3-channel RGB\n",
        "    transforms.ToTensor(),\n",
        "])\n",
        "\n",
        "class MURADataset(Dataset):\n",
        "    def __init__(self, ds, transform=None):\n",
        "        self.ds = ds\n",
        "        self.transform = transform\n",
        "\n",
        "    def __len__(self):\n",
        "        return len(self.ds)\n",
        "\n",
        "    def __getitem__(self, idx):\n",
        "        img = np.array(self.ds[idx][\"images\"].numpy())  # Convert image tensor to NumPy\n",
        "\n",
        "        # Convert NumPy array to PIL Image\n",
        "        img = Image.fromarray(img.astype('uint8'))\n",
        "\n",
        "        # `study_type` as the label\n",
        "        label = self.ds[idx][\"study_type\"].numpy()[0]\n",
        "\n",
        "        if self.transform:\n",
        "            img = self.transform(img)  # ✅ Apply transformations\n",
        "\n",
        "        # Debugging: Print shape of transformed image\n",
        "        if idx < 5:\n",
        "            print(f\"✅ Sample {idx} - Label: {label}, Image Shape: {img.shape}\")\n",
        "\n",
        "        return img, torch.tensor(label, dtype=torch.long)\n",
        "\n",
        "subset_size = 500\n",
        "train_dataset = torch.utils.data.Subset(train_dataset, range(subset_size))\n",
        "train_loader = DataLoader(train_dataset, batch_size=16, shuffle=True)\n",
        "\n",
        "val_dataset = MURADataset(val_ds, transform=transform)\n",
        "val_loader = DataLoader(val_dataset, batch_size=16, shuffle=False)\n",
        "\n",
        "print(\"✅ Dataset successfully loaded with `study_type` labels!\")"
      ],
      "metadata": {
        "colab": {
          "base_uri": "https://localhost:8080/"
        },
        "id": "VI9ezPbxyO2k",
        "outputId": "86f89dae-18ad-4f57-87c3-caeb8cee04b5"
      },
      "execution_count": null,
      "outputs": [
        {
          "output_type": "stream",
          "name": "stdout",
          "text": [
            "✅ Dataset successfully loaded with `study_type` labels!\n"
          ]
        }
      ]
    },
    {
      "cell_type": "code",
      "source": [
        "print(\"Loading Pretrained DenseNet-169...\")\n",
        "model = models.densenet169(pretrained=True)\n",
        "\n",
        "# Modifies classifier for binary classification\n",
        "model.classifier = nn.Linear(1664, 2)  # Output = 2 classes\n",
        "device = torch.device(\"cuda\" if torch.cuda.is_available() else \"cpu\")\n",
        "model = model.to(device)\n",
        "\n",
        "print(\"✅ DenseNet-169 Loaded and Modified for Binary Classification\")\n",
        "print(\"Dataset structure:\")\n",
        "print(train_ds.tensors)  # This prints available tensors in the dataset\n",
        "\n",
        "for i in range(5):\n",
        "    print(f\"Sample {i}:\")\n",
        "    print(\"Study:\", train_ds[i][\"study\"].numpy())\n",
        "    print(\"Study Type:\", train_ds[i][\"study_type\"].numpy())  # Potential fracture label?\n",
        "    print(\"Region:\", train_ds[i][\"region\"].numpy())  # Body region\n",
        "    print(\"Patient ID:\", train_ds[i][\"patient_id\"].numpy())  # Patient ID\n",
        "    print(\"-------------------------\")\n",
        "\n"
      ],
      "metadata": {
        "colab": {
          "base_uri": "https://localhost:8080/"
        },
        "id": "KQnDskKXydC0",
        "outputId": "508ec882-a8ab-42bf-c4d0-6c6d4149b080"
      },
      "execution_count": null,
      "outputs": [
        {
          "output_type": "stream",
          "name": "stdout",
          "text": [
            "Loading Pretrained DenseNet-169...\n",
            "✅ DenseNet-169 Loaded and Modified for Binary Classification\n",
            "Dataset structure:\n",
            "{'images': Tensor(key='images'), 'study': Tensor(key='study'), 'study_type': Tensor(key='study_type'), 'patient_id': Tensor(key='patient_id'), 'region': Tensor(key='region')}\n",
            "Sample 0:\n",
            "Study: [0]\n",
            "Study Type: [0]\n",
            "Region: [0]\n",
            "Patient ID: ['patient09803']\n",
            "-------------------------\n",
            "Sample 1:\n",
            "Study: [0]\n",
            "Study Type: [0]\n",
            "Region: [0]\n",
            "Patient ID: ['patient09803']\n",
            "-------------------------\n",
            "Sample 2:\n",
            "Study: [0]\n",
            "Study Type: [1]\n",
            "Region: [0]\n",
            "Patient ID: ['patient07455']\n",
            "-------------------------\n",
            "Sample 3:\n",
            "Study: [0]\n",
            "Study Type: [1]\n",
            "Region: [0]\n",
            "Patient ID: ['patient07455']\n",
            "-------------------------\n",
            "Sample 4:\n",
            "Study: [0]\n",
            "Study Type: [1]\n",
            "Region: [0]\n",
            "Patient ID: ['patient07107']\n",
            "-------------------------\n"
          ]
        }
      ]
    },
    {
      "cell_type": "code",
      "source": [
        "# Loss function & optimizer\n",
        "criterion = nn.CrossEntropyLoss()\n",
        "optimizer = optim.Adam(model.parameters(), lr=0.0001)\n",
        "\n",
        "EPOCHS = 3  # Reduced to 3 for debugging\n",
        "\n",
        "print(\"✅ Training Setup Complete, Starting Training...\")\n",
        "\n",
        "scaler = torch.cuda.amp.GradScaler()  # Enable mixed precision\n",
        "\n",
        "for epoch in range(EPOCHS):\n",
        "    model.train()\n",
        "    running_loss = 0.0\n",
        "\n",
        "    for i, (images, labels) in enumerate(train_loader):\n",
        "        images, labels = images.to(device), labels.to(device)\n",
        "\n",
        "        optimizer.zero_grad()\n",
        "        with torch.cuda.amp.autocast():  # Apply mixed precision\n",
        "            outputs = model(images)\n",
        "            loss = criterion(outputs, labels)\n",
        "\n",
        "        scaler.scale(loss).backward()\n",
        "        scaler.step(optimizer)\n",
        "        scaler.update()\n",
        "\n",
        "        running_loss += loss.item()\n",
        "\n",
        "        if i % 10 == 0:\n",
        "            print(f\"Epoch {epoch+1}/{EPOCHS}, Batch {i}, Loss: {loss.item()}\")\n",
        "\n",
        "    print(f\"✅ Epoch {epoch+1} Completed, Avg Loss: {running_loss/len(train_loader)}\")\n",
        "\n",
        "print(\"✅ Training Complete!\")\n"
      ],
      "metadata": {
        "colab": {
          "base_uri": "https://localhost:8080/"
        },
        "id": "cyvxgE6Vyn1d",
        "outputId": "923eea52-86f6-4969-9031-277c0bf83074"
      },
      "execution_count": null,
      "outputs": [
        {
          "output_type": "stream",
          "name": "stdout",
          "text": [
            "✅ Training Setup Complete, Starting Training...\n"
          ]
        },
        {
          "output_type": "stream",
          "name": "stderr",
          "text": [
            "<ipython-input-12-7764bbbdfe1a>:9: FutureWarning: `torch.cuda.amp.GradScaler(args...)` is deprecated. Please use `torch.amp.GradScaler('cuda', args...)` instead.\n",
            "  scaler = torch.cuda.amp.GradScaler()  # Enable mixed precision\n",
            "/usr/local/lib/python3.11/dist-packages/torch/amp/grad_scaler.py:132: UserWarning: torch.cuda.amp.GradScaler is enabled, but CUDA is not available.  Disabling.\n",
            "  warnings.warn(\n"
          ]
        },
        {
          "output_type": "stream",
          "name": "stdout",
          "text": [
            "✅ Sample 2 - Label: 1, Image Shape: torch.Size([3, 224, 224])\n"
          ]
        },
        {
          "output_type": "stream",
          "name": "stderr",
          "text": [
            "<ipython-input-12-7764bbbdfe1a>:19: FutureWarning: `torch.cuda.amp.autocast(args...)` is deprecated. Please use `torch.amp.autocast('cuda', args...)` instead.\n",
            "  with torch.cuda.amp.autocast():  # Apply mixed precision\n",
            "/usr/local/lib/python3.11/dist-packages/torch/amp/autocast_mode.py:266: UserWarning: User provided device_type of 'cuda', but CUDA is not available. Disabling\n",
            "  warnings.warn(\n"
          ]
        },
        {
          "output_type": "stream",
          "name": "stdout",
          "text": [
            "Epoch 1/3, Batch 0, Loss: 0.6546863913536072\n",
            "✅ Sample 0 - Label: 0, Image Shape: torch.Size([3, 224, 224])\n",
            "Epoch 1/3, Batch 10, Loss: 0.603295087814331\n",
            "Epoch 1/3, Batch 20, Loss: 0.6069369912147522\n",
            "✅ Sample 1 - Label: 0, Image Shape: torch.Size([3, 224, 224])\n",
            "✅ Sample 3 - Label: 1, Image Shape: torch.Size([3, 224, 224])\n",
            "✅ Sample 4 - Label: 1, Image Shape: torch.Size([3, 224, 224])\n",
            "Epoch 1/3, Batch 30, Loss: 0.6195724606513977\n",
            "✅ Epoch 1 Completed, Avg Loss: 0.5830188756808639\n",
            "Epoch 2/3, Batch 0, Loss: 0.3689805567264557\n",
            "✅ Sample 1 - Label: 0, Image Shape: torch.Size([3, 224, 224])\n",
            "Epoch 2/3, Batch 10, Loss: 0.2651657164096832\n",
            "✅ Sample 2 - Label: 1, Image Shape: torch.Size([3, 224, 224])\n",
            "✅ Sample 3 - Label: 1, Image Shape: torch.Size([3, 224, 224])\n",
            "Epoch 2/3, Batch 20, Loss: 0.2175253927707672\n",
            "✅ Sample 0 - Label: 0, Image Shape: torch.Size([3, 224, 224])\n",
            "✅ Sample 4 - Label: 1, Image Shape: torch.Size([3, 224, 224])\n",
            "Epoch 2/3, Batch 30, Loss: 0.4182642698287964\n",
            "✅ Epoch 2 Completed, Avg Loss: 0.2924969857558608\n",
            "Epoch 3/3, Batch 0, Loss: 0.16791227459907532\n",
            "✅ Sample 0 - Label: 0, Image Shape: torch.Size([3, 224, 224])\n",
            "Epoch 3/3, Batch 10, Loss: 0.1098463386297226\n",
            "✅ Sample 3 - Label: 1, Image Shape: torch.Size([3, 224, 224])\n",
            "✅ Sample 1 - Label: 0, Image Shape: torch.Size([3, 224, 224])\n",
            "✅ Sample 4 - Label: 1, Image Shape: torch.Size([3, 224, 224])\n",
            "Epoch 3/3, Batch 20, Loss: 0.10710293054580688\n",
            "✅ Sample 2 - Label: 1, Image Shape: torch.Size([3, 224, 224])\n",
            "Epoch 3/3, Batch 30, Loss: 0.08940773457288742\n",
            "✅ Epoch 3 Completed, Avg Loss: 0.14193267526570708\n",
            "✅ Training Complete!\n"
          ]
        }
      ]
    }
  ]
}